{
 "cells": [
  {
   "cell_type": "markdown",
   "metadata": {},
   "source": [
    "# This notebook illustrates the usage of the GroundwaterDupuitPercolator Landlab component\n",
    "\n",
    "The GroundwaterDupuitPercolator is a simple Landlab component that simulates a shallow, unconfined aquifer using the Dupuit approximation, also known as the shallow-aquifer approximation. This approximation treats the horizontal hydraulic gradient as identical to the slope of the water table, and is appropriate for aquifers that are much wider than they are thick.\n",
    "\n",
    "## Governing equations\n",
    "\n",
    "Imagine an unconfined aquifer in which the height of the water table, $W$, varies both in space and time. The porosity of the aquifer is $\\phi$. The aquifer sits on top of an impermeable geologic unit, and the elevation of the that unit is $b$ (for \"base\"). The base elevation can also vary with position. The thickness of the aquifer, $H$, at any given point is therefore the difference between the water table height and the aquifer's base:\n",
    "\n",
    "$H = W - b$.\n",
    "\n",
    "The aquifer receives water through recharge (infiltration of rain and snow melt), at a rate of $R$ (depth per time). It could also lose water through surface seepage, where the water table intersects the ground surface (this is a feature to be added to a future version). It might also lose water through pumping, which we'll describe below.\n",
    "\n",
    "The horizontal groundwater velocity is $\\mathbf{u}$. It's also useful to think in terms of the discharge per unit width, $\\mathbf{q}$, which is the product of velocity and thickness. Mass balance dictates that:\n",
    "\n",
    "$\\phi \\frac{\\partial H}{\\partial t} = R - \\left( \\frac{\\partial q_x}{\\partial x} + \\frac{\\partial q_y}{\\partial y} \\right)$,\n",
    "\n",
    "where $q_x$ and $q_y$ are the components of discharge in the $x$ and $y$ directions, respectively (so, for example, $q_x$ might represent eastward flow and $q_y$ northward flow; a negative value would indicate that flow is to the west or south).\n",
    "\n",
    "The discharge is described by Darcy's law, again using the approximation that the hydraulic gradient is equal to the water-table slope:\n",
    "\n",
    "$q_x = -K H \\frac{\\partial W}{\\partial x}$, and\n",
    "\n",
    "$q_y = -K H \\frac{\\partial W}{\\partial y}$.\n",
    "\n",
    "Note here that we are assuming isotropic conductivity.\n",
    "\n"
   ]
  },
  {
   "cell_type": "markdown",
   "metadata": {},
   "source": [
    "## Numerical solution\n",
    "\n",
    "We divide the domain up into a grid of cells. As with many other Landlab components, the grid maybe a regular \"raster\" with square cells, or hexagonal, or even irregular. In this description, we'll assume the cells are square and $\\Delta x$ wide, but the principles apply generally.\n",
    "\n",
    "As with most Landlab grids, the grid is composed of a set of *nodes*. Each of the interior nodes (the ones not along the grid perimeters) lives inside a *cell*. Each adjacent pair of nodes is connected by a *link*, which has a direction: one node is the tail node, and one is the head node. Cells have *faces*, which in a regular raster with uniform spacing are also $\\Delta x$ wide.\n",
    "\n",
    "The water-table gradient at each link $i$ is calculated using:\n",
    "\n",
    "$G_j = (W_{jh} - W_{jt}) / L_j$,\n",
    "\n",
    "where $W_{jh}$ is the water-table elevation of the head node of link $j$, $W_{jt}$ is the tail node, and $L_j$ is the length of link $j$ (equal to $\\Delta x$ in a uniform raster grid).\n",
    "\n",
    "The groundwater velocity at each link $j$ is:\n",
    "\n",
    "$u_j = -K_j G_j$,\n",
    "\n",
    "where $K_j$ is the conductivity at link $j$ (note that the user can choose whether to make conductivity uniform or spatially varying; if uniform, then of course all the $K_j$ values are the same).\n",
    "\n",
    "The groundwater discharge at each link $j$ is:\n",
    "\n",
    "$q_j = u_j H_j$,\n",
    "\n",
    "where the aquifer depth at the link, $H_j$, is the average of the depth at the two bounding nodes:\n",
    "\n",
    "$H_j = (H_{jh} + H_{jt} ) / 2$.\n",
    "\n",
    "Once discharge has been calculated, the water-table thicknesses are updated using the following, which is an explicit forward-in-time method:\n",
    "\n",
    "$H_i^{t+1} = H_i^t + R\\Delta t + \\Delta t \\Sigma_{j=1}^{N_i} q_j \\lambda_j \\delta_{ij}$.\n",
    "\n",
    "The last term on the right represents adding up all in the ground inflows and outflows at the $N_i$ faces of the cell that contains node $i$. If the grid is a uniform rectilinear one (e.g., a Landlab RasterModelGrid), then $N_i = 4$ (except when there are closed boundaries on one or more sides of the cell, in which case $N_i$ would be less than 4). Here $\\lambda_j$ is the width of the cell face crossed by link $j$, and $\\delta_{ij}$ is either 1 or -1: it is 1 if the link points *into* the cell, and -1 if it points *out* of the cell. The time step size is $\\Delta t$. The subscript represents time step number: $H^t$ is thickness at the end of the previous time step, and $H^{t+1}$ is thickness at the end of the new time step."
   ]
  },
  {
   "cell_type": "markdown",
   "metadata": {},
   "source": [
    "## Example 1: simple steady, sloping aquifer\n",
    "\n",
    "In this example, we have an idealized 1 km2 area divided into 20 x 20 m cells. The water table on the left (west) is 10 m higher than on the east, which sets up a west-to-east flow. We can experiment with introducing a collection of pumping locations. Pumping is simulated by modifying a matrix of recharge values: we'll set recharge to zero (for simplicity) everywhere but at a few select locations, representing wells, where water is pumped at a given rate.\n",
    "\n",
    "Start by importing some packages:"
   ]
  },
  {
   "cell_type": "code",
   "execution_count": 1,
   "metadata": {},
   "outputs": [],
   "source": [
    "import numpy as np\n",
    "from landlab import RasterModelGrid\n",
    "from landlab import imshow_grid\n",
    "import matplotlib.pyplot as plt\n",
    "from dupuit_percolator import GroundwaterDupuitPercolator\n",
    "%matplotlib inline"
   ]
  },
  {
   "cell_type": "markdown",
   "metadata": {},
   "source": [
    "Create a Landlab grid, with north and south boundaries closed:"
   ]
  },
  {
   "cell_type": "code",
   "execution_count": 2,
   "metadata": {},
   "outputs": [
    {
     "data": {
      "text/plain": [
       "[<matplotlib.lines.Line2D at 0xd1f019b00>]"
      ]
     },
     "execution_count": 2,
     "metadata": {},
     "output_type": "execute_result"
    },
    {
     "data": {
      "image/png": "[encoded data removed]",
      "text/plain": [
       "<Figure size 432x288 with 1 Axes>"
      ]
     },
     "metadata": {
      "needs_background": "light"
     },
     "output_type": "display_data"
    }
   ],
   "source": [
    "boundaries = {'top': 'closed', 'bottom': 'closed'}\n",
    "grid = RasterModelGrid((51, 51), spacing=20.0, bc=boundaries)\n",
    "plt.plot(grid.x_of_node, grid.y_of_node, 'k.')"
   ]
  },
  {
   "cell_type": "markdown",
   "metadata": {},
   "source": [
    "Create some fields. These will include elevation (which doesn't do anything in the current version of the model, but we can use it assess the depth to the water table), the water table height, and the water table base. We'll set the elevation to a uniform 100 m. The water table will slope down from west to east by 10 m over 1 km. The water table height will be fixed at 90 m at the left (west) boundary, and at 80 m at the right (east). The base will likewise slope downward from 40 m at left to 30 m at right, so when the flow is steady, the aquifer has uniform thickness.\n",
    "\n",
    "We give each field the name required by the GroundwaterDupuitPercolator component (otherwise, it won't recognize these as the proper fields)."
   ]
  },
  {
   "cell_type": "code",
   "execution_count": 3,
   "metadata": {},
   "outputs": [],
   "source": [
    "elev = grid.add_zeros('node', 'topographic__elevation')\n",
    "elev += 100\n",
    "base = grid.add_zeros('node', 'aquifer_base__elevation')\n",
    "base[:] = 40.0 - 0.01 * grid.x_of_node\n",
    "wtable = grid.add_zeros('node', 'water_table__elevation')\n",
    "wtable[:] = 90.0 - 0.01 * grid.x_of_node"
   ]
  },
  {
   "cell_type": "code",
   "execution_count": 4,
   "metadata": {},
   "outputs": [
    {
     "data": {
      "image/png": "[encoded data removed]",
      "text/plain": [
       "<Figure size 432x288 with 2 Axes>"
      ]
     },
     "metadata": {
      "needs_background": "light"
     },
     "output_type": "display_data"
    }
   ],
   "source": [
    "imshow_grid(grid, 'topographic__elevation')"
   ]
  },
  {
   "cell_type": "code",
   "execution_count": 5,
   "metadata": {},
   "outputs": [
    {
     "data": {
      "image/png": "[encoded data removed]",
      "text/plain": [
       "<Figure size 432x288 with 2 Axes>"
      ]
     },
     "metadata": {
      "needs_background": "light"
     },
     "output_type": "display_data"
    }
   ],
   "source": [
    "imshow_grid(grid, 'aquifer_base__elevation')"
   ]
  },
  {
   "cell_type": "code",
   "execution_count": 6,
   "metadata": {},
   "outputs": [
    {
     "data": {
      "image/png": "[encoded data removed]",
      "text/plain": [
       "<Figure size 432x288 with 2 Axes>"
      ]
     },
     "metadata": {
      "needs_background": "light"
     },
     "output_type": "display_data"
    }
   ],
   "source": [
    "imshow_grid(grid, 'water_table__elevation')"
   ]
  },
  {
   "cell_type": "markdown",
   "metadata": {},
   "source": [
    "We'll make an array for recharge rate, in meters per second. Initially, it will be all zeros; later, we'll add negative values to certain nodes to represent pumping. We'll make it a field so that if we later decide to write output to a file, it will be included."
   ]
  },
  {
   "cell_type": "code",
   "execution_count": 7,
   "metadata": {},
   "outputs": [],
   "source": [
    "recharge = grid.add_zeros('node', 'recharge_rate')"
   ]
  },
  {
   "cell_type": "markdown",
   "metadata": {},
   "source": [
    "Next, make a component:"
   ]
  },
  {
   "cell_type": "code",
   "execution_count": 8,
   "metadata": {},
   "outputs": [],
   "source": [
    "gdp = GroundwaterDupuitPercolator(grid, recharge_rate='recharge_rate', hydraulic_conductivity=0.01)"
   ]
  },
  {
   "cell_type": "markdown",
   "metadata": {},
   "source": [
    "We can now run the component. If we've set everything up right, we should have a velocity from left to right of 0.0001 m/s. This comes from Darcy's law: we have a conductivity of 0.01 m/s (pretty conductive), and a gradient of -0.01; so minus conductivity times gradient gives 0.0001 m/s. Let's test it out."
   ]
  },
  {
   "cell_type": "code",
   "execution_count": 9,
   "metadata": {},
   "outputs": [
    {
     "data": {
      "text/plain": [
       "0.00010000000000000143"
      ]
     },
     "execution_count": 9,
     "metadata": {},
     "output_type": "execute_result"
    }
   ],
   "source": [
    "gdp.run_one_step(1.0)\n",
    "np.amax(gdp.vel)"
   ]
  },
  {
   "cell_type": "markdown",
   "metadata": {},
   "source": [
    "The velocity should be 0.0001 at \"horizontal\" (east-west) links, and zero elsewhere. We can test this by inspecting just horizontal links (some will still have zero values; these are boundary links). We'll do the same for discharge too. It should be 0.0001 m/s times 50 m = 0.005 m2/s."
   ]
  },
  {
   "cell_type": "code",
   "execution_count": 10,
   "metadata": {},
   "outputs": [
    {
     "data": {
      "text/plain": [
       "array([[  0.00000000e+00,   0.00000000e+00,   0.00000000e+00, ...,\n",
       "          0.00000000e+00,   0.00000000e+00,   0.00000000e+00],\n",
       "       [  1.00000000e-04,   1.00000000e-04,   1.00000000e-04, ...,\n",
       "          1.00000000e-04,   1.00000000e-04,   1.00000000e-04],\n",
       "       [  1.00000000e-04,   1.00000000e-04,   1.00000000e-04, ...,\n",
       "          1.00000000e-04,   1.00000000e-04,   1.00000000e-04],\n",
       "       ..., \n",
       "       [  1.00000000e-04,   1.00000000e-04,   1.00000000e-04, ...,\n",
       "          1.00000000e-04,   1.00000000e-04,   1.00000000e-04],\n",
       "       [  1.00000000e-04,   1.00000000e-04,   1.00000000e-04, ...,\n",
       "          1.00000000e-04,   1.00000000e-04,   1.00000000e-04],\n",
       "       [  0.00000000e+00,   0.00000000e+00,   0.00000000e+00, ...,\n",
       "          0.00000000e+00,   0.00000000e+00,   0.00000000e+00]])"
      ]
     },
     "execution_count": 10,
     "metadata": {},
     "output_type": "execute_result"
    }
   ],
   "source": [
    "gdp.vel[grid.horizontal_links]"
   ]
  },
  {
   "cell_type": "code",
   "execution_count": 11,
   "metadata": {},
   "outputs": [
    {
     "data": {
      "text/plain": [
       "array([[ 0.   ,  0.   ,  0.   , ...,  0.   ,  0.   ,  0.   ],\n",
       "       [ 0.005,  0.005,  0.005, ...,  0.005,  0.005,  0.005],\n",
       "       [ 0.005,  0.005,  0.005, ...,  0.005,  0.005,  0.005],\n",
       "       ..., \n",
       "       [ 0.005,  0.005,  0.005, ...,  0.005,  0.005,  0.005],\n",
       "       [ 0.005,  0.005,  0.005, ...,  0.005,  0.005,  0.005],\n",
       "       [ 0.   ,  0.   ,  0.   , ...,  0.   ,  0.   ,  0.   ]])"
      ]
     },
     "execution_count": 11,
     "metadata": {},
     "output_type": "execute_result"
    }
   ],
   "source": [
    "gdp.q[grid.horizontal_links]"
   ]
  },
  {
   "cell_type": "markdown",
   "metadata": {},
   "source": [
    "## Example 2: pumping\n",
    "\n",
    "For the next example, we will put a pump in the middle of the domain, and withdraw 0.02 m3/s (about 1700 m3/day). We expect to see a cone of depression around the pump location."
   ]
  },
  {
   "cell_type": "code",
   "execution_count": 12,
   "metadata": {},
   "outputs": [
    {
     "data": {
      "text/plain": [
       "80.0"
      ]
     },
     "execution_count": 12,
     "metadata": {},
     "output_type": "execute_result"
    }
   ],
   "source": [
    "gdp.recharge[1301] = -0.020\n",
    "np.amin(gdp.wtable)"
   ]
  },
  {
   "cell_type": "markdown",
   "metadata": {},
   "source": [
    "Now run the model for some period of time and look at the result:"
   ]
  },
  {
   "cell_type": "code",
   "execution_count": 13,
   "metadata": {},
   "outputs": [],
   "source": [
    "dt = 100.0  # time step in seconds (rough guess at stability)\n",
    "for i in range(10000):  # about 12 days\n",
    "    gdp.run_one_step(dt)"
   ]
  },
  {
   "cell_type": "code",
   "execution_count": 14,
   "metadata": {},
   "outputs": [
    {
     "data": {
      "image/png": "[encoded data removed]",
      "text/plain": [
       "<Figure size 432x288 with 2 Axes>"
      ]
     },
     "metadata": {
      "needs_background": "light"
     },
     "output_type": "display_data"
    }
   ],
   "source": [
    "imshow_grid(grid, 'water_table__elevation')"
   ]
  },
  {
   "cell_type": "code",
   "execution_count": 15,
   "metadata": {},
   "outputs": [
    {
     "data": {
      "text/plain": [
       "68.888289270433461"
      ]
     },
     "execution_count": 15,
     "metadata": {},
     "output_type": "execute_result"
    }
   ],
   "source": [
    "np.amin(grid.at_node['water_table__elevation'])  # how low has water in the well gone?"
   ]
  },
  {
   "cell_type": "markdown",
   "metadata": {},
   "source": [
    "Now turn off the pump and let the system recover:"
   ]
  },
  {
   "cell_type": "code",
   "execution_count": 16,
   "metadata": {},
   "outputs": [],
   "source": [
    "gdp.recharge[1301] = 0.0\n",
    "for i in range(100):\n",
    "    gdp.run_one_step(dt)"
   ]
  },
  {
   "cell_type": "code",
   "execution_count": 17,
   "metadata": {},
   "outputs": [
    {
     "data": {
      "image/png": "[encoded data removed]",
      "text/plain": [
       "<Figure size 432x288 with 2 Axes>"
      ]
     },
     "metadata": {
      "needs_background": "light"
     },
     "output_type": "display_data"
    }
   ],
   "source": [
    "imshow_grid(grid, 'water_table__elevation')"
   ]
  },
  {
   "cell_type": "markdown",
   "metadata": {},
   "source": [
    "In this example, we have used a high conductivity, so it responds quite quickly. Using a lower conductivity would produce a slower response, and would also allow larger time steps."
   ]
  },
  {
   "cell_type": "markdown",
   "metadata": {},
   "source": [
    "## Example 3: steady convex water table with recharge\n",
    "\n",
    "In this example, we use a long, narrow domain, and set only the east boundary open. Steady, uniform recharge is applied. The expected analytical solution for the steady case is as follows. With a groundwater divide at the left boundary, the flow is to the right (increasing $x$). The input from recharge at a given position $x$ is:\n",
    "\n",
    "$q_{in} = Rx$.\n",
    "\n",
    "The output is given by Darcy's law:\n",
    "\n",
    "$q_{out} = -K H \\frac{dH}{dx} = -\\frac{K}{2}\\frac{dH^2}{dx}$.\n",
    "\n",
    "Setting the two equal,\n",
    "\n",
    "$\\frac{dH^2}{dx} = -\\frac{2R}{K} x$.\n",
    "\n",
    "As a boundary condition, we'll say that the water table height at the right side, a distance $L$ from the groundwater divide, is $H_L$. We can then integrate:\n",
    "\n",
    "$\\int_0^y x$\n",
    "\n",
    "$\\int_H^{H_L} dH^2 = -\\frac{2R}{K} \\int_x^L x dx$\n",
    "\n",
    "$H_L^2 - H^2 = -\\frac{R}{K} (L^2 - x^2)$\n",
    "\n",
    "$H^2 = H_L^2 + \\frac{R}{K} (L^2 - x^2)$\n",
    "\n",
    "$H = \\sqrt{H_L^2 + \\frac{R}{K} (L^2 - x^2)}$.\n",
    "\n",
    "For $H_L=0$, the expected height at the divide is $\\sqrt{RL^2/K}$, and the equation can be nondimensionalized as:\n",
    "\n",
    "$H' = \\frac{H}{\\sqrt{RL^2/K}} = \\sqrt{(1 - x'^2)}$, for $0 \\le x \\le 1$.\n",
    "\n",
    "We can visualize the solution:\n"
   ]
  },
  {
   "cell_type": "code",
   "execution_count": 25,
   "metadata": {},
   "outputs": [
    {
     "data": {
      "text/plain": [
       "Text(0, 0.5, \"H'\")"
      ]
     },
     "execution_count": 25,
     "metadata": {},
     "output_type": "execute_result"
    },
    {
     "data": {
      "image/png": "[encoded data removed]",
      "text/plain": [
       "<Figure size 432x288 with 1 Axes>"
      ]
     },
     "metadata": {
      "needs_background": "light"
     },
     "output_type": "display_data"
    }
   ],
   "source": [
    "xprime = np.arange(0, 1, 0.01)\n",
    "hprime = np.sqrt(1.0 - xprime * xprime)\n",
    "plt.plot(xprime, hprime)\n",
    "plt.xlabel(\"x'\")\n",
    "plt.ylabel(\"H'\")"
   ]
  },
  {
   "cell_type": "markdown",
   "metadata": {},
   "source": [
    "The curve looks this way because as you go left to right, the system needs to carry more water, yet it is thinner, so it has to increase the water-table slope to compensate.\n",
    "\n",
    "We'll configure a dimensional version of this with the GroundwaterDupuitPercolator component."
   ]
  },
  {
   "cell_type": "code",
   "execution_count": 26,
   "metadata": {},
   "outputs": [
    {
     "name": "stdout",
     "output_type": "stream",
     "text": [
      "Predicted water table height at divide, meters: 33.166247903553995\n"
     ]
    }
   ],
   "source": [
    "R = 1.0e-7  # steady, uniform recharge rate, in m/s\n",
    "K = 0.0001  # uniform hydraulic conductivity, in m/s\n",
    "L = 1000.0  # domain length, m\n",
    "HL = 10.0   # aquifer thickness at right boundary, m\n",
    "\n",
    "H0 = (HL * HL + (R / K) * (L * L)) ** 0.5\n",
    "print('Predicted water table height at divide, meters: ' + str(H0))"
   ]
  },
  {
   "cell_type": "code",
   "execution_count": 33,
   "metadata": {},
   "outputs": [],
   "source": [
    "boundaries = {'top': 'closed', 'left': 'closed', 'bottom': 'closed'}\n",
    "grid2 = RasterModelGrid((5, 41), spacing=25.0, bc=boundaries)\n",
    "elev2 = grid2.add_zeros('node', 'topographic__elevation')\n",
    "elev2[:] = 35.0\n",
    "base2 = grid2.add_zeros('node', 'aquifer_base__elevation')\n",
    "wt2 = grid2.add_zeros('node', 'water_table__elevation')\n",
    "wt2[:] = HL\n",
    "gdp2 = GroundwaterDupuitPercolator(grid2, hydraulic_conductivity=K, recharge_rate=R)"
   ]
  },
  {
   "cell_type": "code",
   "execution_count": 34,
   "metadata": {},
   "outputs": [
    {
     "data": {
      "text/plain": [
       "Text(0, 0.5, 'Water table height (m)')"
      ]
     },
     "execution_count": 34,
     "metadata": {},
     "output_type": "execute_result"
    },
    {
     "data": {
      "image/png": "[encoded data removed]",
      "text/plain": [
       "<Figure size 432x288 with 1 Axes>"
      ]
     },
     "metadata": {
      "needs_background": "light"
     },
     "output_type": "display_data"
    }
   ],
   "source": [
    "middle_row = np.where(grid2.y_of_node == 75.0)[0][1:]\n",
    "plt.plot(grid2.x_of_node[middle_row], wt2[middle_row])\n",
    "plt.xlabel('Distance (m)')\n",
    "plt.ylabel('Water table height (m)')"
   ]
  },
  {
   "cell_type": "code",
   "execution_count": 35,
   "metadata": {},
   "outputs": [
    {
     "data": {
      "text/plain": [
       "<matplotlib.legend.Legend at 0xd1f512710>"
      ]
     },
     "execution_count": 35,
     "metadata": {},
     "output_type": "execute_result"
    },
    {
     "data": {
      "image/png": "[encoded data removed]",
      "text/plain": [
       "<Figure size 432x288 with 1 Axes>"
      ]
     },
     "metadata": {
      "needs_background": "light"
     },
     "output_type": "display_data"
    }
   ],
   "source": [
    "dt = 8.0e4\n",
    "for i in range(10000):\n",
    "    gdp2.run_one_step(dt)\n",
    "plt.plot(grid2.x_of_node[middle_row], wt2[middle_row], 'k.-')\n",
    "plt.xlabel('Distance (m)')\n",
    "plt.ylabel('Water table height (m)')\n",
    "plt.ylim([0.0, 35.0])\n",
    "x = grid2.x_of_node[middle_row]\n",
    "y = (HL * HL + (R/K)*(L*L - x*x))**0.5\n",
    "plt.plot(x, y, 'r')\n",
    "plt.legend(['Numerical solution', 'Analytical solution'])"
   ]
  },
  {
   "cell_type": "code",
   "execution_count": 36,
   "metadata": {},
   "outputs": [
    {
     "data": {
      "image/png": "[encoded data removed]",
      "text/plain": [
       "<Figure size 432x288 with 2 Axes>"
      ]
     },
     "metadata": {
      "needs_background": "light"
     },
     "output_type": "display_data"
    }
   ],
   "source": [
    "imshow_grid(grid2, wt2)"
   ]
  }
 ],
 "metadata": {
  "kernelspec": {
   "display_name": "Python 3",
   "language": "python",
   "name": "python3"
  },
  "language_info": {
   "codemirror_mode": {
    "name": "ipython",
    "version": 3
   },
   "file_extension": ".py",
   "mimetype": "text/x-python",
   "name": "python",
   "nbconvert_exporter": "python",
   "pygments_lexer": "ipython3",
   "version": "3.6.7"
  }
 },
 "nbformat": 4,
 "nbformat_minor": 2
}
