{
 "cells": [
  {
   "cell_type": "markdown",
   "metadata": {},
   "source": [
    "# This notebook illustrates the usage of the GroundwaterDupuitPercolator Landlab component\n",
    "\n",
    "The GroundwaterDupuitPercolator is a simple Landlab component that simulates a shallow, unconfined aquifer using the Dupuit approximation, also known as the shallow-aquifer approximation. This approximation treats the horizontal hydraulic gradient as identical to the slope of the water table, and is appropriate for aquifers that are much wider than they are thick.\n",
    "\n",
    "## Governing equations\n",
    "\n",
    "Imagine an unconfined aquifer in which the height of the water table, $W$, varies both in space and time. The porosity of the aquifer is $\\phi$. The aquifer sits on top of an impermeable geologic unit, and the elevation of the that unit is $b$ (for \"base\"). The base elevation can also vary with position. The thickness of the aquifer, $H$, at any given point is therefore the difference between the water table height and the aquifer's base:\n",
    "\n",
    "$H = W - b$.\n",
    "\n",
    "The aquifer receives water through recharge (infiltration of rain and snow melt), at a rate of $R$ (depth per time). It could also lose water through surface seepage, where the water table intersects the ground surface (this is a feature to be added to a future version). It might also lose water through pumping, which we'll describe below.\n",
    "\n",
    "The horizontal groundwater velocity is $\\mathbf{u}$. It's also useful to think in terms of the discharge per unit width, $\\mathbf{q}$, which is the product of velocity and thickness. Mass balance dictates that:\n",
    "\n",
    "$\\phi \\frac{\\partial H}{\\partial t} = R - \\left( \\frac{\\partial q_x}{\\partial x} + \\frac{\\partial q_y}{\\partial y} \\right)$,\n",
    "\n",
    "where $q_x$ and $q_y$ are the components of discharge in the $x$ and $y$ directions, respectively (so, for example, $q_x$ might represent eastward flow and $q_y$ northward flow; a negative value would indicate that flow is to the west or south).\n",
    "\n",
    "The discharge is described by Darcy's law, again using the approximation that the hydraulic gradient is equal to the water-table slope:\n",
    "\n",
    "$q_x = -K H \\frac{\\partial W}{\\partial x}$, and\n",
    "\n",
    "$q_y = -K H \\frac{\\partial W}{\\partial y}$.\n",
    "\n",
    "Note here that we are assuming isotropic conductivity.\n",
    "\n"
   ]
  },
  {
   "cell_type": "markdown",
   "metadata": {},
   "source": [
    "## Numerical solution\n",
    "\n",
    "We divide the domain up into a grid of cells. As with many other Landlab components, the grid maybe a regular \"raster\" with square cells, or hexagonal, or even irregular. In this description, we'll assume the cells are square and $\\Delta x$ wide, but the principles apply generally.\n",
    "\n",
    "As with most Landlab grids, the grid is composed of a set of *nodes*. Each of the interior nodes (the ones not along the grid perimeters) lives inside a *cell*. Each adjacent pair of nodes is connected by a *link*, which has a direction: one node is the tail node, and one is the head node. Cells have *faces*, which in a regular raster with uniform spacing are also $\\Delta x$ wide.\n",
    "\n",
    "The water-table gradient at each link $i$ is calculated using:\n",
    "\n",
    "$G_j = (W_{jh} - W_{jt}) / L_j$,\n",
    "\n",
    "where $W_{jh}$ is the water-table elevation of the head node of link $j$, $W_{jt}$ is the tail node, and $L_j$ is the length of link $j$ (equal to $\\Delta x$ in a uniform raster grid).\n",
    "\n",
    "The groundwater velocity at each link $j$ is:\n",
    "\n",
    "$u_j = -K_j G_j$,\n",
    "\n",
    "where $K_j$ is the conductivity at link $j$ (note that the user can choose whether to make conductivity uniform or spatially varying; if uniform, then of course all the $K_j$ values are the same).\n",
    "\n",
    "The groundwater discharge at each link $j$ is:\n",
    "\n",
    "$q_j = u_j H_j$,\n",
    "\n",
    "where the aquifer depth at the link, $H_j$, is the average of the depth at the two bounding nodes:\n",
    "\n",
    "$H_j = (H_{jh} + H_{jt} ) / 2$.\n",
    "\n",
    "Once discharge has been calculated, the water-table thicknesses are updated using the following, which is an explicit forward-in-time method:\n",
    "\n",
    "$H_i^{t+1} = H_i^t + R\\Delta t + \\Delta t \\Sigma_{j=1}^{N_i} q_j \\lambda_j \\delta_{ij}$.\n",
    "\n",
    "The last term on the right represents adding up all in the ground inflows and outflows at the $N_i$ faces of the cell that contains node $i$. If the grid is a uniform rectilinear one (e.g., a Landlab RasterModelGrid), then $N_i = 4$ (except when there are closed boundaries on one or more sides of the cell, in which case $N_i$ would be less than 4). Here $\\lambda_j$ is the width of the cell face crossed by link $j$, and $\\delta_{ij}$ is either 1 or -1: it is 1 if the link points *into* the cell, and -1 if it points *out* of the cell. The time step size is $\\Delta t$. The subscript represents time step number: $H^t$ is thickness at the end of the previous time step, and $H^{t+1}$ is thickness at the end of the new time step."
   ]
  },
  {
   "cell_type": "markdown",
   "metadata": {},
   "source": [
    "## Example 1: simple steady, sloping aquifer\n",
    "\n",
    "In this example, we have an idealized 1 km2 area divided into 20 x 20 m cells. The water table on the left (west) is 10 m higher than on the east, which sets up a west-to-east flow. We can experiment with introducing a collection of pumping locations. Pumping is simulated by modifying a matrix of recharge values: we'll set recharge to zero (for simplicity) everywhere but at a few select locations, representing wells, where water is pumped at a given rate.\n",
    "\n",
    "Start by importing some packages:"
   ]
  },
  {
   "cell_type": "code",
   "execution_count": 117,
   "metadata": {},
   "outputs": [],
   "source": [
    "import numpy as np\n",
    "from landlab import RasterModelGrid\n",
    "from landlab import imshow_grid\n",
    "import matplotlib.pyplot as plt\n",
    "from dupuit_percolator import GroundwaterDupuitPercolator\n",
    "%matplotlib inline"
   ]
  },
  {
   "cell_type": "markdown",
   "metadata": {},
   "source": [
    "Create a Landlab grid, with north and south boundaries closed:"
   ]
  },
  {
   "cell_type": "code",
   "execution_count": 118,
   "metadata": {},
   "outputs": [
    {
     "data": {
      "text/plain": [
       "[<matplotlib.lines.Line2D at 0xd18f9a160>]"
      ]
     },
     "execution_count": 118,
     "metadata": {},
     "output_type": "execute_result"
    },
    {
     "data": {
      "image/png": "[encoded data removed]",
      "text/plain": [
       "<Figure size 432x288 with 1 Axes>"
      ]
     },
     "metadata": {
      "needs_background": "light"
     },
     "output_type": "display_data"
    }
   ],
   "source": [
    "boundaries = {'top': 'closed', 'bottom': 'closed'}\n",
    "grid = RasterModelGrid((51, 51), spacing=20.0, bc=boundaries)\n",
    "plt.plot(grid.x_of_node, grid.y_of_node, 'k.')"
   ]
  },
  {
   "cell_type": "markdown",
   "metadata": {},
   "source": [
    "Create some fields. These will include elevation (which doesn't do anything in the current version of the model, but we can use it assess the depth to the water table), the water table height, and the water table base. We'll set the elevation to a uniform 100 m. The water table will slope down from west to east by 10 m over 1 km. The water table height will be fixed at 90 m at the left (west) boundary, and at 80 m at the right (east). The base will likewise slope downward from 40 m at left to 30 m at right, so when the flow is steady, the aquifer has uniform thickness.\n",
    "\n",
    "We give each field the name required by the GroundwaterDupuitPercolator component (otherwise, it won't recognize these as the proper fields)."
   ]
  },
  {
   "cell_type": "code",
   "execution_count": 119,
   "metadata": {},
   "outputs": [],
   "source": [
    "elev = grid.add_zeros('node', 'topographic__elevation')\n",
    "elev += 100\n",
    "base = grid.add_zeros('node', 'aquifer_base__elevation')\n",
    "base[:] = 40.0 - 0.01 * grid.x_of_node\n",
    "wtable = grid.add_zeros('node', 'water_table__elevation')\n",
    "wtable[:] = 90.0 - 0.01 * grid.x_of_node"
   ]
  },
  {
   "cell_type": "code",
   "execution_count": 120,
   "metadata": {},
   "outputs": [
    {
     "data": {
      "image/png": "[encoded data removed]",
      "text/plain": [
       "<Figure size 432x288 with 2 Axes>"
      ]
     },
     "metadata": {
      "needs_background": "light"
     },
     "output_type": "display_data"
    }
   ],
   "source": [
    "imshow_grid(grid, 'topographic__elevation')"
   ]
  },
  {
   "cell_type": "code",
   "execution_count": 121,
   "metadata": {},
   "outputs": [
    {
     "data": {
      "image/png": "[encoded data removed]",
      "text/plain": [
       "<Figure size 432x288 with 2 Axes>"
      ]
     },
     "metadata": {
      "needs_background": "light"
     },
     "output_type": "display_data"
    }
   ],
   "source": [
    "imshow_grid(grid, 'aquifer_base__elevation')"
   ]
  },
  {
   "cell_type": "code",
   "execution_count": 122,
   "metadata": {},
   "outputs": [
    {
     "data": {
      "image/png": "[encoded data removed]",
      "text/plain": [
       "<Figure size 432x288 with 2 Axes>"
      ]
     },
     "metadata": {
      "needs_background": "light"
     },
     "output_type": "display_data"
    }
   ],
   "source": [
    "imshow_grid(grid, 'water_table__elevation')"
   ]
  },
  {
   "cell_type": "markdown",
   "metadata": {},
   "source": [
    "We'll make an array for recharge rate, in meters per second. Initially, it will be all zeros; later, we'll add negative values to certain nodes to represent pumping. We'll make it a field so that if we later decide to write output to a file, it will be included."
   ]
  },
  {
   "cell_type": "code",
   "execution_count": 123,
   "metadata": {},
   "outputs": [],
   "source": [
    "recharge = grid.add_zeros('node', 'recharge_rate')"
   ]
  },
  {
   "cell_type": "markdown",
   "metadata": {},
   "source": [
    "Next, make a component:"
   ]
  },
  {
   "cell_type": "code",
   "execution_count": 124,
   "metadata": {},
   "outputs": [],
   "source": [
    "gdp = GroundwaterDupuitPercolator(grid, recharge_rate='recharge_rate', hydraulic_conductivity=0.01)"
   ]
  },
  {
   "cell_type": "markdown",
   "metadata": {},
   "source": [
    "We can now run the component. If we've set everything up right, we should have a velocity from left to right of 0.0001 m/s. This comes from Darcy's law: we have a conductivity of 0.01 m/s (pretty conductive), and a gradient of -0.01; so minus conductivity times gradient gives 0.0001 m/s. Let's test it out."
   ]
  },
  {
   "cell_type": "code",
   "execution_count": 125,
   "metadata": {},
   "outputs": [
    {
     "data": {
      "text/plain": [
       "0.00010000000000000143"
      ]
     },
     "execution_count": 125,
     "metadata": {},
     "output_type": "execute_result"
    }
   ],
   "source": [
    "gdp.run_one_step(1.0)\n",
    "np.amax(gdp.vel)"
   ]
  },
  {
   "cell_type": "markdown",
   "metadata": {},
   "source": [
    "The velocity should be 0.0001 at \"horizontal\" (east-west) links, and zero elsewhere. We can test this by inspecting just horizontal links (some will still have zero values; these are boundary links). We'll do the same for discharge too. It should be 0.0001 m/s times 50 m = 0.005 m2/s."
   ]
  },
  {
   "cell_type": "code",
   "execution_count": 126,
   "metadata": {},
   "outputs": [
    {
     "data": {
      "text/plain": [
       "array([[  0.00000000e+00,   0.00000000e+00,   0.00000000e+00, ...,\n",
       "          0.00000000e+00,   0.00000000e+00,   0.00000000e+00],\n",
       "       [  1.00000000e-04,   1.00000000e-04,   1.00000000e-04, ...,\n",
       "          1.00000000e-04,   1.00000000e-04,   1.00000000e-04],\n",
       "       [  1.00000000e-04,   1.00000000e-04,   1.00000000e-04, ...,\n",
       "          1.00000000e-04,   1.00000000e-04,   1.00000000e-04],\n",
       "       ..., \n",
       "       [  1.00000000e-04,   1.00000000e-04,   1.00000000e-04, ...,\n",
       "          1.00000000e-04,   1.00000000e-04,   1.00000000e-04],\n",
       "       [  1.00000000e-04,   1.00000000e-04,   1.00000000e-04, ...,\n",
       "          1.00000000e-04,   1.00000000e-04,   1.00000000e-04],\n",
       "       [  0.00000000e+00,   0.00000000e+00,   0.00000000e+00, ...,\n",
       "          0.00000000e+00,   0.00000000e+00,   0.00000000e+00]])"
      ]
     },
     "execution_count": 126,
     "metadata": {},
     "output_type": "execute_result"
    }
   ],
   "source": [
    "gdp.vel[grid.horizontal_links]"
   ]
  },
  {
   "cell_type": "code",
   "execution_count": 127,
   "metadata": {},
   "outputs": [
    {
     "data": {
      "text/plain": [
       "array([[ 0.   ,  0.   ,  0.   , ...,  0.   ,  0.   ,  0.   ],\n",
       "       [ 0.005,  0.005,  0.005, ...,  0.005,  0.005,  0.005],\n",
       "       [ 0.005,  0.005,  0.005, ...,  0.005,  0.005,  0.005],\n",
       "       ..., \n",
       "       [ 0.005,  0.005,  0.005, ...,  0.005,  0.005,  0.005],\n",
       "       [ 0.005,  0.005,  0.005, ...,  0.005,  0.005,  0.005],\n",
       "       [ 0.   ,  0.   ,  0.   , ...,  0.   ,  0.   ,  0.   ]])"
      ]
     },
     "execution_count": 127,
     "metadata": {},
     "output_type": "execute_result"
    }
   ],
   "source": [
    "gdp.q[grid.horizontal_links]"
   ]
  },
  {
   "cell_type": "markdown",
   "metadata": {},
   "source": [
    "## Example 2: pumping\n",
    "\n",
    "For the next example, we will put a pump in the middle of the domain, and withdraw 0.02 m3/s (about 1700 m3/day). We expect to see a cone of depression around the pump location."
   ]
  },
  {
   "cell_type": "code",
   "execution_count": 128,
   "metadata": {},
   "outputs": [
    {
     "data": {
      "text/plain": [
       "80.0"
      ]
     },
     "execution_count": 128,
     "metadata": {},
     "output_type": "execute_result"
    }
   ],
   "source": [
    "gdp.recharge[1301] = -0.020\n",
    "np.amin(gdp.wtable)"
   ]
  },
  {
   "cell_type": "markdown",
   "metadata": {},
   "source": [
    "Now run the model for some period of time and look at the result:"
   ]
  },
  {
   "cell_type": "code",
   "execution_count": 129,
   "metadata": {},
   "outputs": [],
   "source": [
    "dt = 100.0  # time step in seconds (rough guess at stability)\n",
    "for i in range(10000):  # about 12 days\n",
    "    gdp.run_one_step(dt)"
   ]
  },
  {
   "cell_type": "code",
   "execution_count": 130,
   "metadata": {},
   "outputs": [
    {
     "data": {
      "image/png": "[encoded data removed]",
      "text/plain": [
       "<Figure size 432x288 with 2 Axes>"
      ]
     },
     "metadata": {
      "needs_background": "light"
     },
     "output_type": "display_data"
    }
   ],
   "source": [
    "imshow_grid(grid, 'water_table__elevation')"
   ]
  },
  {
   "cell_type": "code",
   "execution_count": 131,
   "metadata": {},
   "outputs": [
    {
     "data": {
      "text/plain": [
       "68.888289270433461"
      ]
     },
     "execution_count": 131,
     "metadata": {},
     "output_type": "execute_result"
    }
   ],
   "source": [
    "np.amin(grid.at_node['water_table__elevation'])  # how low has water in the well gone?"
   ]
  },
  {
   "cell_type": "markdown",
   "metadata": {},
   "source": [
    "Now turn off the pump and let the system recover:"
   ]
  },
  {
   "cell_type": "code",
   "execution_count": 132,
   "metadata": {},
   "outputs": [],
   "source": [
    "gdp.recharge[1301] = 0.0\n",
    "for i in range(100):\n",
    "    gdp.run_one_step(dt)"
   ]
  },
  {
   "cell_type": "code",
   "execution_count": 133,
   "metadata": {},
   "outputs": [
    {
     "data": {
      "image/png": "[encoded data removed]",
      "text/plain": [
       "<Figure size 432x288 with 2 Axes>"
      ]
     },
     "metadata": {
      "needs_background": "light"
     },
     "output_type": "display_data"
    }
   ],
   "source": [
    "imshow_grid(grid, 'water_table__elevation')"
   ]
  },
  {
   "cell_type": "markdown",
   "metadata": {},
   "source": [
    "In this example, we have used a high conductivity, so it responds quite quickly. Using a lower conductivity would produce a slower response, and would also allow larger time steps."
   ]
  }
 ],
 "metadata": {
  "kernelspec": {
   "display_name": "Python 3",
   "language": "python",
   "name": "python3"
  },
  "language_info": {
   "codemirror_mode": {
    "name": "ipython",
    "version": 3
   },
   "file_extension": ".py",
   "mimetype": "text/x-python",
   "name": "python",
   "nbconvert_exporter": "python",
   "pygments_lexer": "ipython3",
   "version": "3.6.7"
  }
 },
 "nbformat": 4,
 "nbformat_minor": 2
}
